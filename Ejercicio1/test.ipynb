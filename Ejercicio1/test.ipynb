{
 "cells": [
  {
   "cell_type": "code",
   "execution_count": 2,
   "id": "8bd379bb",
   "metadata": {},
   "outputs": [
    {
     "name": "stdout",
     "output_type": "stream",
     "text": [
      "Current folder path: /home/javikugan/Documents/Universidad/Tercero/PlaniExt/Plani/Ejercicio1\n",
      "\n",
      "[INFO] Generando problema: 1 persona, 1 caja ...\n"
     ]
    },
    {
     "name": "stderr",
     "output_type": "stream",
     "text": [
      "  File \"/home/javikugan/Documents/Universidad/Tercero/PlaniExt/Plani/Ejercicio1/generate_problem.py\", line 108\n",
      "    default=2, help='capacidad máxima de cajas por dron (no usado en este dominio, se ignora)')\n",
      "                                                                                              ^\n",
      "SyntaxError: unmatched ')'\n"
     ]
    },
    {
     "name": "stdout",
     "output_type": "stream",
     "text": [
      "[TIMEOUT] Tiempo excedido (60s) para '1 persona, 1 caja'.\n"
     ]
    },
    {
     "ename": "FileNotFoundError",
     "evalue": "[Errno 2] No such file or directory: '/home/javikugan/Documents/Universidad/Tercero/PlaniExt/Plani/Ejercicio1/Problemas/drone_problem_d1_l118_p118_c118_g118_ct2.pddl'",
     "output_type": "error",
     "traceback": [
      "\u001b[31m---------------------------------------------------------------------------\u001b[39m",
      "\u001b[31mFileNotFoundError\u001b[39m                         Traceback (most recent call last)",
      "\u001b[36mCell\u001b[39m\u001b[36m \u001b[39m\u001b[32mIn[2]\u001b[39m\u001b[32m, line 63\u001b[39m\n\u001b[32m     61\u001b[39m     \u001b[38;5;28;01mexcept\u001b[39;00m subprocess.TimeoutExpired:\n\u001b[32m     62\u001b[39m         \u001b[38;5;28mprint\u001b[39m(\u001b[33mf\u001b[39m\u001b[33m\"\u001b[39m\u001b[33m[TIMEOUT] Tiempo excedido (\u001b[39m\u001b[38;5;132;01m{\u001b[39;00mmax_time\u001b[38;5;132;01m}\u001b[39;00m\u001b[33ms) para \u001b[39m\u001b[33m'\u001b[39m\u001b[38;5;132;01m{\u001b[39;00mdesc\u001b[38;5;132;01m}\u001b[39;00m\u001b[33m'\u001b[39m\u001b[33m.\u001b[39m\u001b[33m\"\u001b[39m)\n\u001b[32m---> \u001b[39m\u001b[32m63\u001b[39m     \u001b[43mos\u001b[49m\u001b[43m.\u001b[49m\u001b[43mremove\u001b[49m\u001b[43m(\u001b[49m\u001b[43mproblem_pddl\u001b[49m\u001b[43m)\u001b[49m\n\u001b[32m     65\u001b[39m \u001b[38;5;28mprint\u001b[39m(\u001b[33m\"\u001b[39m\u001b[38;5;130;01m\\n\u001b[39;00m\u001b[33m>>> Resultados de los escenarios probados:\u001b[39m\u001b[33m\"\u001b[39m)\n\u001b[32m     66\u001b[39m \u001b[38;5;28;01mfor\u001b[39;00m r \u001b[38;5;129;01min\u001b[39;00m results:\n",
      "\u001b[31mFileNotFoundError\u001b[39m: [Errno 2] No such file or directory: '/home/javikugan/Documents/Universidad/Tercero/PlaniExt/Plani/Ejercicio1/Problemas/drone_problem_d1_l118_p118_c118_g118_ct2.pddl'"
     ]
    }
   ],
   "source": [
    "import os, sys, pathlib, time, subprocess\n",
    "import matplotlib.pyplot as plt\n",
    "from tqdm.notebook import tqdm\n",
    "import pandas as pd\n",
    "import re\n",
    "\n",
    "folder_path = pathlib.Path().resolve()\n",
    "planing_path = folder_path.parent\n",
    "problem_path = folder_path / \"Problemas\"\n",
    "print(\"Current folder path:\", folder_path)\n",
    "\n",
    "step_pattern = re.compile(r\"\\s*\\d+\\s*:\")\n",
    "\n",
    "max_time = 60  # Tiempo máximo en segundos para cada resolución\n",
    "\n",
    "if not problem_path.exists():\n",
    "    os.makedirs(problem_path)\n",
    "\n",
    "# Definir los escenarios a probar\n",
    "scenarios = [\n",
    "    {\"desc\": \"1 persona, 1 caja\", \"params\": {\"-d\": 1, \"-k\": 1, \"-l\": 2, \"-p\": 1, \"-c\": 1, \"-g\": 1, \"-v\": 0}},\n",
    "    {\"desc\": \"2 personas, 3 cajas\", \"params\": {\"-d\": 1, \"-k\": 2, \"-l\": 3, \"-p\": 2, \"-c\": 3, \"-g\": 3, \"-v\": 0}},\n",
    "]\n",
    "\n",
    "results = []\n",
    "\n",
    "for scenario in scenarios:\n",
    "    desc = scenario[\"desc\"]\n",
    "    params = scenario[\"params\"]\n",
    "    # Construir el comando de generación del problema\n",
    "    gen_cmd = f\"python3 {folder_path}/generate_problem.py\"\n",
    "    for k, v in params.items():\n",
    "        gen_cmd += f\" {k} {v}\"\n",
    "    print(f\"\\n[INFO] Generando problema: {desc} ...\")\n",
    "    os.system(gen_cmd)\n",
    "    # Buscar el archivo .pddl generado más reciente\n",
    "    pddl_files = sorted(problem_path.glob(\"*.pddl\"), key=os.path.getmtime, reverse=True)\n",
    "    if not pddl_files:\n",
    "        print(\"[ERROR] No se encontró el archivo .pddl generado.\")\n",
    "        continue\n",
    "    problem_pddl = pddl_files[0]\n",
    "    planificador_cmd = [\n",
    "        f\"{planing_path}/planificadores/ff\",\n",
    "        \"-o\", f\"{folder_path}/dron-domain.pddl\",\n",
    "        \"-f\", str(problem_pddl)\n",
    "    ]\n",
    "    start = time.time()\n",
    "    try:\n",
    "        result = subprocess.run(planificador_cmd, timeout=max_time, capture_output=True, text=True)\n",
    "        elapsed = time.time() - start\n",
    "        if result.returncode == 0:\n",
    "            result_lines = result.stdout.splitlines()\n",
    "            step_count = 1\n",
    "            for line in result.stdout.splitlines():\n",
    "                if step_pattern.match(line):\n",
    "                    step_count += 1\n",
    "            print(f\"[OK] Plan encontrado para '{desc}' en {elapsed:.4f} segundos con {step_count} pasos.\")\n",
    "            results.append({\"escenario\": desc, \"tiempo\": elapsed, \"pasos\": step_count})\n",
    "        else:\n",
    "            print(f\"[ERROR] No se encontró plan para '{desc}'.\")\n",
    "    except subprocess.TimeoutExpired:\n",
    "        print(f\"[TIMEOUT] Tiempo excedido ({max_time}s) para '{desc}'.\")\n",
    "    os.remove(problem_pddl)\n",
    "\n",
    "print(\"\\n>>> Resultados de los escenarios probados:\")\n",
    "for r in results:\n",
    "    print(f\"Escenario: {r['escenario']}, Tiempo: {r['tiempo']:.4f}s, Pasos: {r['pasos']}\")\n",
    "\n"
   ]
  }
 ],
 "metadata": {
  "kernelspec": {
   "display_name": "plani_venv",
   "language": "python",
   "name": "python3"
  },
  "language_info": {
   "codemirror_mode": {
    "name": "ipython",
    "version": 3
   },
   "file_extension": ".py",
   "mimetype": "text/x-python",
   "name": "python",
   "nbconvert_exporter": "python",
   "pygments_lexer": "ipython3",
   "version": "3.12.3"
  }
 },
 "nbformat": 4,
 "nbformat_minor": 5
}
