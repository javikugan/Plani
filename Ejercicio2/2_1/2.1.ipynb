{
 "cells": [
  {
   "cell_type": "code",
   "execution_count": 11,
   "id": "3e4b90ed",
   "metadata": {},
   "outputs": [],
   "source": [
    "from pathlib import Path\n",
    "import os\n",
    "import time\n",
    "import subprocess\n",
    "import pandas as pd\n",
    "from tqdm.notebook import tqdm\n",
    "\n",
    "# Expande el home y define la ruta base correctamente\n",
    "folder_path = Path('~/Documents/Universidad/Tercero/PlaniExt/Plani').expanduser()\n",
    "problem_path = folder_path / \"Ejercicio2\" / \"2_1\" / \"Problemas\"\n",
    "problem_path.mkdir(parents=True, exist_ok=True)\n",
    "\n",
    "planner_name = \"FF\"\n",
    "planner_cmd = [\n",
    "    str(folder_path / \"planificadores\" / \"ff\"),\n",
    "    \"-o\", str(folder_path / \"Ejercicio2\" / \"2_1\" / \"dron-domain.pddl\")\n",
    "]\n",
    "\n",
    "sizes, times, steps_list, outputs = [], [], [], []\n",
    "max_size = 0\n",
    "size = 2\n",
    "time_exceeded = False\n",
    "max_time = 600000  # 60 segundos"
   ]
  },
  {
   "cell_type": "code",
   "execution_count": null,
   "id": "be3dee5b",
   "metadata": {},
   "outputs": [
    {
     "data": {
      "application/vnd.jupyter.widget-view+json": {
       "model_id": "32cd31f59b9b42dba0c9c3cc3bdf1963",
       "version_major": 2,
       "version_minor": 0
      },
      "text/plain": [
       "Resolviendo con FF: 0tamaño [00:00, ?tamaño/s]"
      ]
     },
     "metadata": {},
     "output_type": "display_data"
    },
    {
     "name": "stdout",
     "output_type": "stream",
     "text": [
      "FF resolvió hasta tamaño 0\n"
     ]
    },
    {
     "data": {
      "application/vnd.microsoft.datawrangler.viewer.v0+json": {
       "columns": [
        {
         "name": "index",
         "rawType": "int64",
         "type": "integer"
        },
        {
         "name": "Tamaño",
         "rawType": "float64",
         "type": "float"
        },
        {
         "name": "Tiempo",
         "rawType": "float64",
         "type": "float"
        },
        {
         "name": "Pasos",
         "rawType": "float64",
         "type": "float"
        }
       ],
       "ref": "5821ce2d-5b9b-4785-93b3-3c3cd84634e0",
       "rows": [],
       "shape": {
        "columns": 3,
        "rows": 0
       }
      },
      "text/html": [
       "<div>\n",
       "<style scoped>\n",
       "    .dataframe tbody tr th:only-of-type {\n",
       "        vertical-align: middle;\n",
       "    }\n",
       "\n",
       "    .dataframe tbody tr th {\n",
       "        vertical-align: top;\n",
       "    }\n",
       "\n",
       "    .dataframe thead th {\n",
       "        text-align: right;\n",
       "    }\n",
       "</style>\n",
       "<table border=\"1\" class=\"dataframe\">\n",
       "  <thead>\n",
       "    <tr style=\"text-align: right;\">\n",
       "      <th></th>\n",
       "      <th>Tamaño</th>\n",
       "      <th>Tiempo</th>\n",
       "      <th>Pasos</th>\n",
       "    </tr>\n",
       "  </thead>\n",
       "  <tbody>\n",
       "  </tbody>\n",
       "</table>\n",
       "</div>"
      ],
      "text/plain": [
       "Empty DataFrame\n",
       "Columns: [Tamaño, Tiempo, Pasos]\n",
       "Index: []"
      ]
     },
     "execution_count": 13,
     "metadata": {},
     "output_type": "execute_result"
    }
   ],
   "source": [
    "\n",
    "\n",
    "pbar = tqdm(desc=f\"Resolviendo con {planner_name}\", unit=\"tamaño\")\n",
    "while not time_exceeded:\n",
    "    pbar.set_description(f\"{planner_name} → tamaño {size}\")\n",
    "    # Genera el problema en el directorio correcto\n",
    "    gen_cmd = (\n",
    "        f\"python3 {folder_path}/Ejercicio2/2_1/generate_problem.py \"\n",
    "        f\"-d 1 -r 1 -k 4 -l {size} -p {size} -c {size} -g {size} -v 0 \"\n",
    "        f\"-o {problem_path}\"\n",
    "    )\n",
    "    os.system(gen_cmd)\n",
    "    \n",
    "\n",
    "    pddl_files = sorted(problem_path.glob(\"*.pddl\"), key=os.path.getmtime, reverse=True)\n",
    "    print(f\"Archivos PDDL generados: {len(pddl_files)}\")\n",
    "    if not pddl_files:\n",
    "        break\n",
    "    problem_pddl = pddl_files[0]\n",
    "    start = time.time()\n",
    "    try:\n",
    "        res = subprocess.run(planner_cmd + [\"-f\", str(problem_pddl)],\n",
    "                             capture_output=True, text=True, timeout=max_time)\n",
    "        elapsed = time.time() - start\n",
    "        if res.returncode != 0:\n",
    "            time_exceeded = True\n",
    "        else:\n",
    "            plan_lines = res.stdout.splitlines()\n",
    "            num_steps = sum(1 for ln in plan_lines if ln.strip() and \"(\" in ln and not ln.strip().startswith(\";\"))\n",
    "            sizes.append(size)\n",
    "            times.append(elapsed)\n",
    "            steps_list.append(num_steps)\n",
    "            outputs.append(\"\\n\".join(plan_lines[:50]))\n",
    "            max_size = size\n",
    "    except subprocess.TimeoutExpired:\n",
    "        time_exceeded = True\n",
    "    # os.remove(problem_pddl)\n",
    "    size += 1\n",
    "    pbar.update(1)\n",
    "\n",
    "pbar.close()\n",
    "print(f\"{planner_name} resolvió hasta tamaño {max_size}\")\n",
    "df_ff = pd.DataFrame({\"Tamaño\": sizes, \"Tiempo\": times, \"Pasos\": steps_list})\n",
    "df_ff"
   ]
  }
 ],
 "metadata": {
  "kernelspec": {
   "display_name": "plani_venv",
   "language": "python",
   "name": "python3"
  },
  "language_info": {
   "codemirror_mode": {
    "name": "ipython",
    "version": 3
   },
   "file_extension": ".py",
   "mimetype": "text/x-python",
   "name": "python",
   "nbconvert_exporter": "python",
   "pygments_lexer": "ipython3",
   "version": "3.12.3"
  }
 },
 "nbformat": 4,
 "nbformat_minor": 5
}
