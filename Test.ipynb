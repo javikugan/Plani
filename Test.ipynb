{
 "cells": [
  {
   "cell_type": "code",
   "execution_count": null,
   "metadata": {},
   "outputs": [
    {
     "name": "stdout",
     "output_type": "stream",
     "text": [
      "Current folder path: /home/javikugan/Documents/Universidad/Tercero/PlaniExt/Plani\n"
     ]
    }
   ],
   "source": [
    "import os,sys, pathlib\n",
    "import generate_problem\n",
    "\n",
    "folder_path = pathlib.Path().resolve()\n",
    "print(\"Current folder path:\", folder_path)\n"
   ]
  },
  {
   "cell_type": "code",
   "execution_count": 13,
   "metadata": {},
   "outputs": [
    {
     "name": "stdout",
     "output_type": "stream",
     "text": [
      "Generating problem in: /home/javikugan/Documents/Universidad/Tercero/PlaniExt/Plani/Ejercicio1/Problemas\n",
      "Drones\t\t 1\n",
      "Carriers\t 0\n",
      "Locations\t 2\n",
      "Persons\t\t 3\n",
      "Crates\t\t 6\n",
      "Goals\t\t 6\n",
      "\n",
      "Types\tQuantities\n",
      "comida\t 3\n",
      "medicina\t 3\n",
      "Location positions [(0, 0), (123, 153), (182, 98)]\n",
      "Archivo de problema guardado en: drone_problem_d1_r0_l2_p3_c6_g6_ct2.pddl\n",
      "Ejecutando planificador: /home/javikugan/Documents/Universidad/Tercero/PlaniExt/Plani/planificadores/ff -o /home/javikugan/Documents/Universidad/Tercero/PlaniExt/Plani/Ejercicio1/dron-domain.pddl -f /home/javikugan/Documents/Universidad/Tercero/PlaniExt/Plani/Ejercicio1/Problemas/drone_problem_d1_r0_l2_p3_c6_g6_ct2.pddl\n",
      "\n",
      "ff: parsing domain file\n",
      "domain 'DRONE-DOMAIN' defined\n",
      " ... done.\n",
      "ff: parsing problem file\n",
      "problem 'DRONE_PROBLEM_D1_R0_L2_P3_C6_G6_CT2' defined\n",
      " ... done.\n",
      "\n",
      "\n",
      "\n",
      "Cueing down from goal distance:   11 into depth [1]\n",
      "                                   9            [1]\n",
      "                                   8            [1][2]\n",
      "                                   7            [1][2]\n",
      "                                   6            [1][2]\n",
      "                                   5            [1]\n",
      "                                   4            [1][2][3][4]\n",
      "                                   3            [1]\n",
      "                                   2            [1][2][3][4]\n",
      "                                   1            [1]\n",
      "                                   0            \n",
      "\n",
      "Cueing down from goal distance:    1 into depth [1]\n",
      "                                   0            \n",
      "\n",
      "ff: found legal plan as follows\n",
      "\n",
      "step    0: MOVER-DRONE DRON1 DEPOSITO LOC1\n",
      "        1: CARGAR_DRON DRON1 CRATE2 LOC1 N0 N1\n",
      "        2: MOVER-DRONE DRON1 LOC1 LOC2\n",
      "        3: CARGAR_DRON DRON1 CRATE4 LOC2 N1 N2\n",
      "        4: ENTREGAR PERSON3 CRATE2 COMIDA LOC2 DRON1 N1 N2\n",
      "        5: CARGAR_DRON DRON1 CRATE1 LOC2 N1 N2\n",
      "        6: ENTREGAR PERSON3 CRATE4 MEDICINA LOC2 DRON1 N1 N2\n",
      "        7: CARGAR_DRON DRON1 CRATE5 LOC2 N1 N2\n",
      "        8: MOVER-DRONE DRON1 LOC2 LOC1\n",
      "        9: ENTREGAR PERSON1 CRATE1 COMIDA LOC1 DRON1 N1 N2\n",
      "       10: MOVER-DRONE DRON1 LOC1 LOC2\n",
      "       11: CARGAR_DRON DRON1 CRATE3 LOC2 N1 N2\n",
      "       12: MOVER-DRONE DRON1 LOC2 LOC1\n",
      "       13: ENTREGAR PERSON2 CRATE3 COMIDA LOC1 DRON1 N1 N2\n",
      "       14: ENTREGAR PERSON1 CRATE5 MEDICINA LOC1 DRON1 N0 N1\n",
      "       15: MOVER-DRONE DRON1 LOC1 LOC2\n",
      "       16: CARGAR_DRON DRON1 CRATE6 LOC2 N0 N1\n",
      "       17: MOVER-DRONE DRON1 LOC2 LOC1\n",
      "       18: ENTREGAR PERSON2 CRATE6 MEDICINA LOC1 DRON1 N0 N1\n",
      "       19: MOVER-DRONE DRON1 LOC1 DEPOSITO\n",
      "     \n",
      "\n",
      "time spent:    0.00 seconds instantiating 153 easy, 0 hard action templates\n",
      "               0.00 seconds reachability analysis, yielding 33 facts and 57 actions\n",
      "               0.00 seconds creating final representation with 30 relevant facts\n",
      "               0.00 seconds building connectivity graph\n",
      "               0.00 seconds searching, evaluating 59 states, to a max depth of 4\n",
      "               0.00 seconds total time\n",
      "\n"
     ]
    }
   ],
   "source": [
    "# Definimos los parámetros del problema\n",
    "drones = 1\n",
    "locations = 2\n",
    "personas = 3\n",
    "cajas = 6\n",
    "metas = 6\n",
    "capacidad_drones = 2\n",
    "carriers = 0\n",
    "#generar problema en carpeta Ejercicio1_problemas\n",
    "problem_path = folder_path / \"Ejercicio1/Problemas\"\n",
    "if not problem_path.exists():\n",
    "    os.makedirs(problem_path)\n",
    "# Cambiamos el directorio de trabajo al directorio del problema\n",
    "os.chdir(problem_path)\n",
    "# Generamos el problema con los parámetros definidos\n",
    "print(\"Generating problem in:\", os.getcwd())\n",
    "os.system(f\"python3 {folder_path}/generate_problem.py -d {drones} -l {locations} -p {personas} -c {cajas} -g {metas} -k {capacidad_drones} -r {carriers}\")\n",
    "# Ejecutamos el planificador con el problema generado\n",
    "plan_file = list(problem_path.glob(\"*.pddl\"))\n",
    "if plan_file:\n",
    "    problem_pddl = plan_file[0]\n",
    "    planificador_cmd = f\"{folder_path}/planificadores/ff -o {folder_path}/Ejercicio1/dron-domain.pddl -f {problem_pddl}\"\n",
    "    print(\"Ejecutando planificador:\", planificador_cmd)\n",
    "    os.system(planificador_cmd)\n",
    "else:\n",
    "    print(\"No se encontró el archivo .pddl generado en\", problem_path)"
   ]
  }
 ],
 "metadata": {
  "kernelspec": {
   "display_name": "plani_venv",
   "language": "python",
   "name": "python3"
  },
  "language_info": {
   "codemirror_mode": {
    "name": "ipython",
    "version": 3
   },
   "file_extension": ".py",
   "mimetype": "text/x-python",
   "name": "python",
   "nbconvert_exporter": "python",
   "pygments_lexer": "ipython3",
   "version": "3.12.3"
  }
 },
 "nbformat": 4,
 "nbformat_minor": 2
}
